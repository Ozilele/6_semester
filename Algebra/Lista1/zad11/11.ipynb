{
 "cells": [
  {
   "cell_type": "markdown",
   "metadata": {},
   "source": [
    "\n",
    "$ x(t) = \\frac{1-t^2}{1+t^2} \\qquad y(t) = \\frac{2t}{1+t^2} $\n",
    "\n",
    "$ t = \\frac{1 + \\sqrt{1 - y^2}}{y} $\n",
    "\n",
    "$ x^2 = \\frac{(1 - t^2)^2}{(1 + t^2)^2} $\n",
    "\n",
    "$ y^2 = (\\frac{2t}{1 + t^2})^2 $\n",
    "\n",
    "$ x^2 + y^2 = \\frac{(1-t^2)^2 + (2t)^2}{(1+t^2)^2} = \\frac{t^4 + 2t^2 + 1}{(1+t^2)^2} = \\frac{(1+t^2)^2}{(1+t^2)^2} = 1 $\n",
    "\n",
    "Rozmaitosc ma punkt (-1, 0) a uklad rownan go nie ma"
   ]
  }
 ],
 "metadata": {
  "language_info": {
   "name": "python"
  }
 },
 "nbformat": 4,
 "nbformat_minor": 2
}
