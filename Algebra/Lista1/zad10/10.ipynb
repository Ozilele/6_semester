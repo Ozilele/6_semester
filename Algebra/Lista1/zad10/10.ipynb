{
 "cells": [
  {
   "cell_type": "markdown",
   "metadata": {},
   "source": [
    "Zadanie 10.1\n",
    "\n",
    "$ x = uv \\qquad y = v \\qquad z = u^2 $\n",
    "\n",
    "$ GB = (u^2 - z, ux-yz, uy-x, v-y, x^2 - y^2z) $\n",
    "$ I_3 = <x^2 - y^2z> $\n",
    "\n",
    "$ u = \\frac{x}{v} \\implies z = u^2 = \\frac{x^2}{v^2} = \\frac{x^2}{y^2} \\implies x^2 - y^2z = 0$\n",
    "\n",
    "$ f = x^2 - y^2z $\n",
    "\n",
    "Zadanie 10.2\n",
    "\n",
    "Mamy $(a,b,c) \\in C^3 \\quad and \\quad a^2-b^2c = 0$\n",
    "\n",
    "Wtedy $(a, b, c, d, e) \\in C^5 \\quad takie, ze: a = de \\quad b = e \\quad c = d^2 \\quad ,czyli \\quad e = b \\quad oraz \\quad d = \\sqrt{c}$\n",
    "\n",
    "\n",
    "Zadanie 10.3\n",
    "\n",
    "Przy zmianie C w R mamy: (0,0,c) dla c > 0\n",
    "\n",
    "\n",
    "Zadanie 10.4\n",
    "\n",
    "$\\frac{d}{dy} f = -2yz$\n",
    "\n",
    "$\\frac{d}{dx} f = 2x$\n",
    "\n",
    "$\\frac{d}{dz} f = -y^2$\n",
    "\n",
    "$x = 0 \\quad y = 0 \\quad z \\in R$"
   ]
  }
 ],
 "metadata": {
  "language_info": {
   "name": "python"
  }
 },
 "nbformat": 4,
 "nbformat_minor": 2
}
