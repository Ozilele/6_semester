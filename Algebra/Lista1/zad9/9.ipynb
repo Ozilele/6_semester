{
 "cells": [
  {
   "cell_type": "markdown",
   "metadata": {},
   "source": [
    "Zadanie 9.1\n",
    "\n",
    "$f_1 = (x^2 + y^2 + 4y)^2 - 16(x^2 + y^2) = x^4 + 2x^2y^2 + 8x^2y - 16x^2 + y^4 + 8y^3$\n",
    "\n",
    "$\\frac{d}{dx} f_1 = 4x^3 + 4y^2x + 16yx - 32x = 4x(x^2 + y^2 + 4y - 8)$\n",
    "\n",
    "$\\frac{d}{dy} f_1 = 4x^2y + 8x^2 + 4y^3 + 24 y^2 = 4(x^2(y+2) + y^2(y+6))$\n",
    "\n",
    "1. $x = 0 \\implies y = 0 \\quad or \\quad y = -6$\n",
    "2. $x^2 = -y^2 -4y + 8 \\implies (-y^2 -4y + 8)(y+2) + y^2(y+6) = -y^3 - 4y^2 + 8y -2y^2 -8y + 16 + y^3 + 6y^2 = 16 \\ne 0$\n",
    "\n",
    "\n",
    "Zadanie 9.2\n",
    "\n",
    "$f_2 = 2(x^2 + 9)(y^2-16) + (x^2-9)^2 + (y^2-16)^2 = x^4 + 2x^2y^2 - 50x^2 + y^4 - 14y^2 + 49$\n",
    "\n",
    "$\\frac{d}{dx} f_2 = 4x^3 + 4y^2x - 100x = 4x(x^2+y^2-25)$\n",
    "\n",
    "$\\frac{d}{dy} f_2 = 4x^2y + 4y^3 - 28y = 4y(x^2+y^2-7)$\n",
    "\n",
    "1. $x = 0 \\implies y = 0 \\quad or \\quad y = \\pm \\sqrt{7}$\n",
    "2. $y = 0 \\implies x = 0 \\quad or \\quad y \\pm 5$\n",
    "\n",
    "\n",
    "Zadanie 9.3\n",
    "\n",
    "$f_3 = 350x^2y^2 - 15^2(x^2 + y^2) + 12^2(x^4 + y^4) + 81 $\n",
    "\n",
    "$\\frac{d}{dx} f_3 = 700y^2x - 450x + 576x^3 = 2x(350y^2 + 288x^2 - 225)$\n",
    "\n",
    "$\\frac{d}{dy} f_3 = 700x^2y - 450y + 576y^3 = 2y(350x^2 + 288y^2 - 225)$\n",
    "\n",
    "1. $x = 0 \\implies y = 0 \\quad or \\quad \\pm \\frac{5\\sqrt{2}}{8}$\n",
    "2. $y = 0 \\implies x = 0 \\quad or \\quad \\pm \\frac{5\\sqrt{2}}{8}$"
   ]
  }
 ],
 "metadata": {
  "language_info": {
   "name": "python"
  }
 },
 "nbformat": 4,
 "nbformat_minor": 2
}
