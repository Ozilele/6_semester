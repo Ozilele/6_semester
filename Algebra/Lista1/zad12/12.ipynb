{
 "cells": [
  {
   "cell_type": "markdown",
   "metadata": {},
   "source": [
    "\n",
    "$ r = \\frac{1}{cos(t)} + a cos(t) $\n",
    "\n",
    "$ \\sqrt{x^2 + y^2} = \\frac{1}{\\frac{1}{\\sqrt{x^2 + y^2}}} + a \\frac{x}{\\sqrt{x^2 + y^2}} $\n",
    "\n",
    "$ x^3 + xy^2 - (1+a)x^2 - y^2 = 0 $"
   ]
  }
 ],
 "metadata": {
  "language_info": {
   "name": "python"
  }
 },
 "nbformat": 4,
 "nbformat_minor": 2
}
